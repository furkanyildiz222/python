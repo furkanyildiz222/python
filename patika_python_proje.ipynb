{
 "cells": [
  {
   "cell_type": "markdown",
   "id": "142f8fc0",
   "metadata": {},
   "source": [
    "### Patika Proje \n",
    "\n",
    "1- Bir listeyi düzleştiren (flatten) fonksiyon yazın. Elemanları birden çok katmanlı listelerden ([[3],2] gibi) oluşabileceği gibi, non-scalar verilerden de oluşabilir. Örnek olarak:\n",
    "\n",
    "input: [[1,'a',['cat'],2],[[[3]],'dog'],4,5]\n",
    "\n",
    "output: [1,'a','cat',2,3,'dog',4,5]"
   ]
  },
  {
   "cell_type": "code",
   "execution_count": null,
   "id": "6611ed44",
   "metadata": {},
   "outputs": [],
   "source": [
    "my_list = [[1,'a',['cat'],2],[[[3]],'dog'],4,5]\n",
    "flattened = []\n",
    "def flatten(m):\n",
    "    for i in m:\n",
    "        if type(i) == list:\n",
    "            flatten(i)\n",
    "        else:\n",
    "            flattened.append(i)\n",
    "    return(flattened)\n",
    "\n",
    "print(flatten(my_list))"
   ]
  },
  {
   "cell_type": "markdown",
   "id": "bbae9831",
   "metadata": {},
   "source": [
    "2- Verilen listenin içindeki elemanları tersine döndüren bir fonksiyon yazın. Eğer listenin içindeki elemanlar da liste içeriyorsa onların elemanlarını da tersine döndürün. Örnek olarak:\n",
    "\n",
    "input: [[1, 2], [3, 4], [5, 6, 7]]\n",
    "\n",
    "output: [[[7, 6, 5], [4, 3], [2, 1]]\n"
   ]
  },
  {
   "cell_type": "code",
   "execution_count": 4,
   "id": "6df82f61",
   "metadata": {},
   "outputs": [
    {
     "name": "stdout",
     "output_type": "stream",
     "text": [
      "[[7, 6, 5], [4, 3], [2, 1]]\n"
     ]
    }
   ],
   "source": [
    "my_list = [[1, 2], [3, 4], [5, 6, 7]]\n",
    "\n",
    "def reverse_list(x):\n",
    "    y = x[::-1]\n",
    "    z = []\n",
    "    for i in y:\n",
    "        reversed_element = i[::-1]\n",
    "        z.append(reversed_element)\n",
    "    print(z)\n",
    "\n",
    "\n",
    "\n",
    "reverse_list(my_list)"
   ]
  }
 ],
 "metadata": {
  "kernelspec": {
   "display_name": "Python 3 (ipykernel)",
   "language": "python",
   "name": "python3"
  },
  "language_info": {
   "codemirror_mode": {
    "name": "ipython",
    "version": 3
   },
   "file_extension": ".py",
   "mimetype": "text/x-python",
   "name": "python",
   "nbconvert_exporter": "python",
   "pygments_lexer": "ipython3",
   "version": "3.9.12"
  }
 },
 "nbformat": 4,
 "nbformat_minor": 5
}
